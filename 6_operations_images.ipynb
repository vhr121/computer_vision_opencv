{
 "cells": [
  {
   "cell_type": "code",
   "execution_count": 2,
   "metadata": {},
   "outputs": [],
   "source": [
    "import cv2\n",
    "import numpy as np"
   ]
  },
  {
   "cell_type": "code",
   "execution_count": 3,
   "metadata": {},
   "outputs": [],
   "source": [
    "img  = np.zeros([640,350,3],np.uint8) #CREATE A DUMMY IMAGE"
   ]
  },
  {
   "cell_type": "code",
   "execution_count": 4,
   "metadata": {},
   "outputs": [
    {
     "data": {
      "text/plain": [
       "(640, 350, 3)"
      ]
     },
     "execution_count": 4,
     "metadata": {},
     "output_type": "execute_result"
    }
   ],
   "source": [
    "img.shape #access the image shape\n"
   ]
  },
  {
   "cell_type": "code",
   "execution_count": 5,
   "metadata": {},
   "outputs": [
    {
     "data": {
      "text/plain": [
       "672000"
      ]
     },
     "execution_count": 5,
     "metadata": {},
     "output_type": "execute_result"
    }
   ],
   "source": [
    "img.size#acess the image size\n"
   ]
  },
  {
   "cell_type": "code",
   "execution_count": 6,
   "metadata": {},
   "outputs": [
    {
     "data": {
      "text/plain": [
       "dtype('uint8')"
      ]
     },
     "execution_count": 6,
     "metadata": {},
     "output_type": "execute_result"
    }
   ],
   "source": [
    "img.dtype #The datatype of the image (very important for image operations)"
   ]
  },
  {
   "cell_type": "code",
   "execution_count": null,
   "metadata": {},
   "outputs": [],
   "source": [
    "cv2.imshow('image',img) #Display the image\n",
    "cv2.waitKey(0)\n",
    "cv2.destroyAllWindows()"
   ]
  },
  {
   "cell_type": "code",
   "execution_count": 6,
   "metadata": {},
   "outputs": [],
   "source": [
    "img.setfield(100,np.uint8) #set all fields to 100"
   ]
  },
  {
   "cell_type": "code",
   "execution_count": 7,
   "metadata": {},
   "outputs": [
    {
     "data": {
      "text/plain": [
       "array([[[100, 100, 100],\n",
       "        [100, 100, 100],\n",
       "        [100, 100, 100],\n",
       "        ...,\n",
       "        [100, 100, 100],\n",
       "        [100, 100, 100],\n",
       "        [100, 100, 100]],\n",
       "\n",
       "       [[100, 100, 100],\n",
       "        [100, 100, 100],\n",
       "        [100, 100, 100],\n",
       "        ...,\n",
       "        [100, 100, 100],\n",
       "        [100, 100, 100],\n",
       "        [100, 100, 100]],\n",
       "\n",
       "       [[100, 100, 100],\n",
       "        [100, 100, 100],\n",
       "        [100, 100, 100],\n",
       "        ...,\n",
       "        [100, 100, 100],\n",
       "        [100, 100, 100],\n",
       "        [100, 100, 100]],\n",
       "\n",
       "       ...,\n",
       "\n",
       "       [[100, 100, 100],\n",
       "        [100, 100, 100],\n",
       "        [100, 100, 100],\n",
       "        ...,\n",
       "        [100, 100, 100],\n",
       "        [100, 100, 100],\n",
       "        [100, 100, 100]],\n",
       "\n",
       "       [[100, 100, 100],\n",
       "        [100, 100, 100],\n",
       "        [100, 100, 100],\n",
       "        ...,\n",
       "        [100, 100, 100],\n",
       "        [100, 100, 100],\n",
       "        [100, 100, 100]],\n",
       "\n",
       "       [[100, 100, 100],\n",
       "        [100, 100, 100],\n",
       "        [100, 100, 100],\n",
       "        ...,\n",
       "        [100, 100, 100],\n",
       "        [100, 100, 100],\n",
       "        [100, 100, 100]]], dtype=uint8)"
      ]
     },
     "execution_count": 7,
     "metadata": {},
     "output_type": "execute_result"
    }
   ],
   "source": [
    "img.getfield(np.uint8) # get the field whose value is 100"
   ]
  },
  {
   "cell_type": "code",
   "execution_count": 8,
   "metadata": {},
   "outputs": [],
   "source": [
    "img[:,:,2]=121 #assign the Red(2) value of all the pixels to 121"
   ]
  },
  {
   "cell_type": "code",
   "execution_count": 9,
   "metadata": {},
   "outputs": [
    {
     "data": {
      "text/plain": [
       "array([[[100, 100, 121],\n",
       "        [100, 100, 121],\n",
       "        [100, 100, 121],\n",
       "        ...,\n",
       "        [100, 100, 121],\n",
       "        [100, 100, 121],\n",
       "        [100, 100, 121]],\n",
       "\n",
       "       [[100, 100, 121],\n",
       "        [100, 100, 121],\n",
       "        [100, 100, 121],\n",
       "        ...,\n",
       "        [100, 100, 121],\n",
       "        [100, 100, 121],\n",
       "        [100, 100, 121]],\n",
       "\n",
       "       [[100, 100, 121],\n",
       "        [100, 100, 121],\n",
       "        [100, 100, 121],\n",
       "        ...,\n",
       "        [100, 100, 121],\n",
       "        [100, 100, 121],\n",
       "        [100, 100, 121]],\n",
       "\n",
       "       ...,\n",
       "\n",
       "       [[100, 100, 121],\n",
       "        [100, 100, 121],\n",
       "        [100, 100, 121],\n",
       "        ...,\n",
       "        [100, 100, 121],\n",
       "        [100, 100, 121],\n",
       "        [100, 100, 121]],\n",
       "\n",
       "       [[100, 100, 121],\n",
       "        [100, 100, 121],\n",
       "        [100, 100, 121],\n",
       "        ...,\n",
       "        [100, 100, 121],\n",
       "        [100, 100, 121],\n",
       "        [100, 100, 121]],\n",
       "\n",
       "       [[100, 100, 121],\n",
       "        [100, 100, 121],\n",
       "        [100, 100, 121],\n",
       "        ...,\n",
       "        [100, 100, 121],\n",
       "        [100, 100, 121],\n",
       "        [100, 100, 121]]], dtype=uint8)"
      ]
     },
     "execution_count": 9,
     "metadata": {},
     "output_type": "execute_result"
    }
   ],
   "source": [
    "img\n"
   ]
  },
  {
   "cell_type": "code",
   "execution_count": 11,
   "metadata": {},
   "outputs": [],
   "source": [
    "img2 = np.ones([100,100,3],np.uint8) #create another image"
   ]
  },
  {
   "cell_type": "code",
   "execution_count": 14,
   "metadata": {},
   "outputs": [],
   "source": [
    "img[200:300,200:300,:]=img2 #place the image2 on image 1 at position 200,300"
   ]
  },
  {
   "cell_type": "code",
   "execution_count": null,
   "metadata": {},
   "outputs": [],
   "source": []
  }
 ],
 "metadata": {
  "kernelspec": {
   "display_name": "Python 2",
   "language": "python",
   "name": "python2"
  },
  "language_info": {
   "codemirror_mode": {
    "name": "ipython",
    "version": 3
   },
   "file_extension": ".py",
   "mimetype": "text/x-python",
   "name": "python",
   "nbconvert_exporter": "python",
   "pygments_lexer": "ipython3",
   "version": "3.6.7"
  }
 },
 "nbformat": 4,
 "nbformat_minor": 2
}
